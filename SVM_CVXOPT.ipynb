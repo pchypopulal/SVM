{
  "nbformat": 4,
  "nbformat_minor": 0,
  "metadata": {
    "colab": {
      "name": "SVM-CVXOPT.ipynb",
      "provenance": [],
      "collapsed_sections": [],
      "toc_visible": true
    },
    "kernelspec": {
      "name": "python3",
      "display_name": "Python 3"
    }
  },
  "cells": [
    {
      "cell_type": "code",
      "metadata": {
        "id": "VNH31MWqoa7y",
        "colab_type": "code",
        "colab": {
          "base_uri": "https://localhost:8080/",
          "height": 71
        },
        "outputId": "0757b893-f61f-47c6-8e37-57a4168bec05"
      },
      "source": [
        "import numpy as np\n",
        "import pandas as pd\n",
        "from matplotlib import pyplot as plt\n",
        "import seaborn as sns\n",
        "sns.set()\n",
        "\n",
        "import cvxopt\n",
        "\n",
        "from sklearn.svm import SVC\n",
        "from sklearn.metrics import accuracy_score\n",
        "from cvxopt import matrix as cvxopt_matrix\n",
        "from cvxopt import solvers as cvxopt_solvers"
      ],
      "execution_count": 1,
      "outputs": [
        {
          "output_type": "stream",
          "text": [
            "/usr/local/lib/python3.6/dist-packages/statsmodels/tools/_testing.py:19: FutureWarning: pandas.util.testing is deprecated. Use the functions in the public API at pandas.testing instead.\n",
            "  import pandas.util.testing as tm\n"
          ],
          "name": "stderr"
        }
      ]
    },
    {
      "cell_type": "code",
      "metadata": {
        "id": "OR_5GSvporhj",
        "colab_type": "code",
        "colab": {}
      },
      "source": [
        "import glob\n",
        "\n",
        "# Importing drive method from colab for accessing google drive\n",
        "from google.colab import drive\n",
        "from google.colab import files"
      ],
      "execution_count": 2,
      "outputs": []
    },
    {
      "cell_type": "code",
      "metadata": {
        "id": "XMNcqGdkpBTr",
        "colab_type": "code",
        "colab": {
          "base_uri": "https://localhost:8080/",
          "height": 122
        },
        "outputId": "4119c190-126b-4745-a7e3-685fb0dd4e01"
      },
      "source": [
        "# Mounting drive\n",
        "# This will require authentication : Follow the steps as guided\n",
        "drive.mount('/content/drive')"
      ],
      "execution_count": 3,
      "outputs": [
        {
          "output_type": "stream",
          "text": [
            "Go to this URL in a browser: https://accounts.google.com/o/oauth2/auth?client_id=947318989803-6bn6qk8qdgf4n4g3pfee6491hc0brc4i.apps.googleusercontent.com&redirect_uri=urn%3aietf%3awg%3aoauth%3a2.0%3aoob&scope=email%20https%3a%2f%2fwww.googleapis.com%2fauth%2fdocs.test%20https%3a%2f%2fwww.googleapis.com%2fauth%2fdrive%20https%3a%2f%2fwww.googleapis.com%2fauth%2fdrive.photos.readonly%20https%3a%2f%2fwww.googleapis.com%2fauth%2fpeopleapi.readonly&response_type=code\n",
            "\n",
            "Enter your authorization code:\n",
            "··········\n",
            "Mounted at /content/drive\n"
          ],
          "name": "stdout"
        }
      ]
    },
    {
      "cell_type": "code",
      "metadata": {
        "id": "NAAMcj8ypNPK",
        "colab_type": "code",
        "colab": {}
      },
      "source": [
        "import os\n",
        "os.chdir(\"drive/My Drive/ISML\")"
      ],
      "execution_count": 4,
      "outputs": []
    },
    {
      "cell_type": "markdown",
      "metadata": {
        "id": "_AYvCei7KyjB",
        "colab_type": "text"
      },
      "source": [
        "#Train Data"
      ]
    },
    {
      "cell_type": "code",
      "metadata": {
        "id": "sFe9ieRrqwfr",
        "colab_type": "code",
        "colab": {
          "base_uri": "https://localhost:8080/",
          "height": 255
        },
        "outputId": "b594e066-5aaf-4468-8cbb-95040f75cd21"
      },
      "source": [
        "#read training data\n",
        "train_file = \"data/train.csv\"\n",
        "df = pd.read_csv(train_file,header=None)\n",
        "print(df)"
      ],
      "execution_count": 5,
      "outputs": [
        {
          "output_type": "stream",
          "text": [
            "      0     1     2     3     4     5    ...   195   196   197   198   199   200\n",
            "0     0.0 -0.36 -0.91 -0.99 -0.57 -1.38  ...  1.75  1.58  0.12  0.30  2.44 -1.26\n",
            "1     1.0 -1.40 -1.90  0.09  0.29 -0.30  ... -0.02 -0.35 -0.27 -0.20 -0.92 -0.46\n",
            "2     1.0 -0.43  1.45 -0.68 -1.58  0.32  ...  0.74  0.88  1.37  0.12  0.01 -0.56\n",
            "3     1.0 -0.76  0.30 -0.57 -0.33 -1.50  ... -0.24 -0.69  1.31 -0.18 -1.54 -1.70\n",
            "4     0.0 -0.76  1.36  0.00 -1.44 -1.27  ... -0.14  0.04  0.33  1.20 -0.81 -1.16\n",
            "...   ...   ...   ...   ...   ...   ...  ...   ...   ...   ...   ...   ...   ...\n",
            "8495  1.0 -1.55 -0.02  0.67  0.17 -2.17  ... -0.65  0.16 -2.17  0.39 -2.48  0.36\n",
            "8496  0.0  0.53 -0.74  0.06 -0.76  0.20  ... -0.60 -0.64  0.03 -1.04  0.01 -1.04\n",
            "8497  1.0  1.18  0.78 -0.02  1.25 -0.85  ...  1.06  0.36 -0.40 -0.63  0.29 -0.96\n",
            "8498  1.0 -0.55  1.16 -0.56  1.58 -0.06  ... -0.11  0.42 -0.30  2.97 -2.66 -1.90\n",
            "8499  0.0  0.80 -0.97 -0.15 -0.01 -1.57  ... -0.32  0.35  0.44 -1.58  0.35  1.06\n",
            "\n",
            "[8500 rows x 201 columns]\n"
          ],
          "name": "stdout"
        }
      ]
    },
    {
      "cell_type": "code",
      "metadata": {
        "id": "ohZejtK8wRrv",
        "colab_type": "code",
        "colab": {
          "base_uri": "https://localhost:8080/",
          "height": 255
        },
        "outputId": "8b20d552-bfdf-4517-f1be-4152d956a45d"
      },
      "source": [
        "#transfer labels to either -1 or +1\n",
        "df.iloc[:,0].replace(0.0,-1.0,inplace=True)\n",
        "print(df)"
      ],
      "execution_count": 6,
      "outputs": [
        {
          "output_type": "stream",
          "text": [
            "      0     1     2     3     4     5    ...   195   196   197   198   199   200\n",
            "0    -1.0 -0.36 -0.91 -0.99 -0.57 -1.38  ...  1.75  1.58  0.12  0.30  2.44 -1.26\n",
            "1     1.0 -1.40 -1.90  0.09  0.29 -0.30  ... -0.02 -0.35 -0.27 -0.20 -0.92 -0.46\n",
            "2     1.0 -0.43  1.45 -0.68 -1.58  0.32  ...  0.74  0.88  1.37  0.12  0.01 -0.56\n",
            "3     1.0 -0.76  0.30 -0.57 -0.33 -1.50  ... -0.24 -0.69  1.31 -0.18 -1.54 -1.70\n",
            "4    -1.0 -0.76  1.36  0.00 -1.44 -1.27  ... -0.14  0.04  0.33  1.20 -0.81 -1.16\n",
            "...   ...   ...   ...   ...   ...   ...  ...   ...   ...   ...   ...   ...   ...\n",
            "8495  1.0 -1.55 -0.02  0.67  0.17 -2.17  ... -0.65  0.16 -2.17  0.39 -2.48  0.36\n",
            "8496 -1.0  0.53 -0.74  0.06 -0.76  0.20  ... -0.60 -0.64  0.03 -1.04  0.01 -1.04\n",
            "8497  1.0  1.18  0.78 -0.02  1.25 -0.85  ...  1.06  0.36 -0.40 -0.63  0.29 -0.96\n",
            "8498  1.0 -0.55  1.16 -0.56  1.58 -0.06  ... -0.11  0.42 -0.30  2.97 -2.66 -1.90\n",
            "8499 -1.0  0.80 -0.97 -0.15 -0.01 -1.57  ... -0.32  0.35  0.44 -1.58  0.35  1.06\n",
            "\n",
            "[8500 rows x 201 columns]\n"
          ],
          "name": "stdout"
        }
      ]
    },
    {
      "cell_type": "code",
      "metadata": {
        "id": "FbN9RmVr8VsL",
        "colab_type": "code",
        "colab": {
          "base_uri": "https://localhost:8080/",
          "height": 221
        },
        "outputId": "a9654c2a-656a-4df7-9470-8877745a23bd"
      },
      "source": [
        "y_negative_pd = df.iloc[:,0][df.iloc[:,0]==-1.0]\n",
        "print(y_negative_pd)"
      ],
      "execution_count": 7,
      "outputs": [
        {
          "output_type": "stream",
          "text": [
            "0      -1.0\n",
            "4      -1.0\n",
            "7      -1.0\n",
            "8      -1.0\n",
            "9      -1.0\n",
            "       ... \n",
            "8489   -1.0\n",
            "8490   -1.0\n",
            "8493   -1.0\n",
            "8496   -1.0\n",
            "8499   -1.0\n",
            "Name: 0, Length: 4249, dtype: float64\n"
          ],
          "name": "stdout"
        }
      ]
    },
    {
      "cell_type": "code",
      "metadata": {
        "id": "GPKwehWJ81TZ",
        "colab_type": "code",
        "colab": {
          "base_uri": "https://localhost:8080/",
          "height": 221
        },
        "outputId": "634be37c-4487-473e-ce89-6773316b604b"
      },
      "source": [
        "y_positive_pd = df.iloc[:,0][df.iloc[:,0]==1.0]\n",
        "print(y_positive_pd)"
      ],
      "execution_count": 8,
      "outputs": [
        {
          "output_type": "stream",
          "text": [
            "1       1.0\n",
            "2       1.0\n",
            "3       1.0\n",
            "5       1.0\n",
            "6       1.0\n",
            "       ... \n",
            "8492    1.0\n",
            "8494    1.0\n",
            "8495    1.0\n",
            "8497    1.0\n",
            "8498    1.0\n",
            "Name: 0, Length: 4251, dtype: float64\n"
          ],
          "name": "stdout"
        }
      ]
    },
    {
      "cell_type": "code",
      "metadata": {
        "id": "FyfuUAx59FNA",
        "colab_type": "code",
        "colab": {
          "base_uri": "https://localhost:8080/",
          "height": 255
        },
        "outputId": "3f1f5a78-5b9e-4e5a-811f-dba56038d495"
      },
      "source": [
        "x_negative_pd = df.iloc[:,1:][df.iloc[:,0]==-1.0]\n",
        "print(x_negative_pd)"
      ],
      "execution_count": 9,
      "outputs": [
        {
          "output_type": "stream",
          "text": [
            "       1     2     3     4     5     6    ...   195   196   197   198   199   200\n",
            "0    -0.36 -0.91 -0.99 -0.57 -1.38 -1.54  ...  1.75  1.58  0.12  0.30  2.44 -1.26\n",
            "4    -0.76  1.36  0.00 -1.44 -1.27 -0.76  ... -0.14  0.04  0.33  1.20 -0.81 -1.16\n",
            "7    -0.59  0.25  0.29  2.21  0.05 -1.45  ...  0.30  1.18  0.59 -0.18  0.34  1.51\n",
            "8    -2.57  1.27 -1.54 -0.46 -0.13 -0.45  ... -1.37 -1.40  1.22  0.64 -1.13 -0.06\n",
            "9    -0.99 -1.19  1.73  1.20 -0.42 -0.44  ...  1.00 -0.51  0.13  0.83 -0.60  1.87\n",
            "...    ...   ...   ...   ...   ...   ...  ...   ...   ...   ...   ...   ...   ...\n",
            "8489 -0.03  0.38  0.34  0.55 -0.01 -0.20  ... -1.42 -1.23  0.79  0.34 -0.00 -1.32\n",
            "8490  0.80  1.34 -1.46 -0.45 -0.50  0.98  ...  2.00 -0.69 -0.77 -1.00  0.75 -0.89\n",
            "8493  1.07  1.62 -1.49 -1.16  1.31 -0.34  ... -0.51  0.77  0.58 -0.51 -0.69 -2.01\n",
            "8496  0.53 -0.74  0.06 -0.76  0.20  0.02  ... -0.60 -0.64  0.03 -1.04  0.01 -1.04\n",
            "8499  0.80 -0.97 -0.15 -0.01 -1.57  1.02  ... -0.32  0.35  0.44 -1.58  0.35  1.06\n",
            "\n",
            "[4249 rows x 200 columns]\n"
          ],
          "name": "stdout"
        }
      ]
    },
    {
      "cell_type": "code",
      "metadata": {
        "id": "KHSA8yxl9O0C",
        "colab_type": "code",
        "colab": {
          "base_uri": "https://localhost:8080/",
          "height": 255
        },
        "outputId": "7f7bec9a-0eb3-4629-8289-851338817274"
      },
      "source": [
        "x_positive_pd = df.iloc[:,1:][df.iloc[:,0]==1.0]\n",
        "print(x_positive_pd)"
      ],
      "execution_count": 10,
      "outputs": [
        {
          "output_type": "stream",
          "text": [
            "       1     2     3     4     5     6    ...   195   196   197   198   199   200\n",
            "1    -1.40 -1.90  0.09  0.29 -0.30 -1.30  ... -0.02 -0.35 -0.27 -0.20 -0.92 -0.46\n",
            "2    -0.43  1.45 -0.68 -1.58  0.32 -0.14  ...  0.74  0.88  1.37  0.12  0.01 -0.56\n",
            "3    -0.76  0.30 -0.57 -0.33 -1.50  1.84  ... -0.24 -0.69  1.31 -0.18 -1.54 -1.70\n",
            "5    -0.70  0.83 -1.57  1.15  0.79 -0.02  ... -0.58  1.56 -1.24  1.00  1.20 -0.18\n",
            "6    -0.33 -1.78 -1.30  0.00  0.43  0.90  ... -0.05 -0.36  0.49  0.49  0.30  0.20\n",
            "...    ...   ...   ...   ...   ...   ...  ...   ...   ...   ...   ...   ...   ...\n",
            "8492 -0.75  0.84 -0.56 -0.38 -0.21 -0.52  ...  0.66 -0.58 -0.82 -1.23 -0.22 -0.36\n",
            "8494  0.56 -0.55  1.04  1.67 -0.49  0.67  ...  0.89 -0.36  0.27 -1.20  1.34 -0.52\n",
            "8495 -1.55 -0.02  0.67  0.17 -2.17 -2.96  ... -0.65  0.16 -2.17  0.39 -2.48  0.36\n",
            "8497  1.18  0.78 -0.02  1.25 -0.85 -0.50  ...  1.06  0.36 -0.40 -0.63  0.29 -0.96\n",
            "8498 -0.55  1.16 -0.56  1.58 -0.06 -1.38  ... -0.11  0.42 -0.30  2.97 -2.66 -1.90\n",
            "\n",
            "[4251 rows x 200 columns]\n"
          ],
          "name": "stdout"
        }
      ]
    },
    {
      "cell_type": "code",
      "metadata": {
        "id": "rw5HcUp465bk",
        "colab_type": "code",
        "colab": {}
      },
      "source": [
        "#Data set\n",
        "x_negative = x_negative_pd.to_numpy()\n",
        "y_negative = y_negative_pd.to_numpy()\n",
        "x_positive = x_positive_pd.to_numpy()\n",
        "y_positive = y_positive_pd.to_numpy()"
      ],
      "execution_count": 11,
      "outputs": []
    },
    {
      "cell_type": "code",
      "metadata": {
        "id": "0P-O8N1nAsW_",
        "colab_type": "code",
        "colab": {
          "base_uri": "https://localhost:8080/",
          "height": 136
        },
        "outputId": "920000db-6902-49d7-a3ac-14949f51045a"
      },
      "source": [
        "#Data for the next section\n",
        "X = np.vstack((x_positive, x_negative))\n",
        "y = np.concatenate((y_positive,y_negative))\n",
        "print(X)"
      ],
      "execution_count": 12,
      "outputs": [
        {
          "output_type": "stream",
          "text": [
            "[[-1.4  -1.9   0.09 ... -0.2  -0.92 -0.46]\n",
            " [-0.43  1.45 -0.68 ...  0.12  0.01 -0.56]\n",
            " [-0.76  0.3  -0.57 ... -0.18 -1.54 -1.7 ]\n",
            " ...\n",
            " [ 1.07  1.62 -1.49 ... -0.51 -0.69 -2.01]\n",
            " [ 0.53 -0.74  0.06 ... -1.04  0.01 -1.04]\n",
            " [ 0.8  -0.97 -0.15 ... -1.58  0.35  1.06]]\n"
          ],
          "name": "stdout"
        }
      ]
    },
    {
      "cell_type": "markdown",
      "metadata": {
        "id": "L-UmUBa_JKcS",
        "colab_type": "text"
      },
      "source": [
        "## Cross Validation"
      ]
    },
    {
      "cell_type": "code",
      "metadata": {
        "id": "hm6ebML7I8Vj",
        "colab_type": "code",
        "colab": {
          "base_uri": "https://localhost:8080/",
          "height": 901
        },
        "outputId": "39231272-ad1d-4a83-9161-3475c8dad2f0"
      },
      "source": [
        "#generate validation set from training set\n",
        "from sklearn.model_selection import KFold\n",
        "kf = KFold(n_splits=4) \n",
        "for train_index, validation_index in kf.split(X):\n",
        "   print(\"TRAIN:\", X[train_index], \"VALIDATION:\", X[validation_index])\n",
        "   X_train, X_validation = X[train_index], X[validation_index]\n",
        "   y_train, y_validation = y[train_index], y[validation_index]"
      ],
      "execution_count": 15,
      "outputs": [
        {
          "output_type": "stream",
          "text": [
            "TRAIN: [[ 0.34 -1.44  0.7  ...  0.05 -0.8  -3.1 ]\n",
            " [-0.54 -0.82 -0.53 ...  0.84 -0.27  0.52]\n",
            " [ 1.43  1.35  0.12 ... -0.33 -0.64  0.08]\n",
            " ...\n",
            " [ 1.07  1.62 -1.49 ... -0.51 -0.69 -2.01]\n",
            " [ 0.53 -0.74  0.06 ... -1.04  0.01 -1.04]\n",
            " [ 0.8  -0.97 -0.15 ... -1.58  0.35  1.06]] VALIDATION: [[-1.4  -1.9   0.09 ... -0.2  -0.92 -0.46]\n",
            " [-0.43  1.45 -0.68 ...  0.12  0.01 -0.56]\n",
            " [-0.76  0.3  -0.57 ... -0.18 -1.54 -1.7 ]\n",
            " ...\n",
            " [ 1.17  0.76 -1.58 ...  1.34  0.65 -1.43]\n",
            " [-2.47  0.13  0.37 ...  0.92  0.31  0.74]\n",
            " [-1.13  0.9   1.23 ...  1.27 -1.68  1.92]]\n",
            "TRAIN: [[-1.4  -1.9   0.09 ... -0.2  -0.92 -0.46]\n",
            " [-0.43  1.45 -0.68 ...  0.12  0.01 -0.56]\n",
            " [-0.76  0.3  -0.57 ... -0.18 -1.54 -1.7 ]\n",
            " ...\n",
            " [ 1.07  1.62 -1.49 ... -0.51 -0.69 -2.01]\n",
            " [ 0.53 -0.74  0.06 ... -1.04  0.01 -1.04]\n",
            " [ 0.8  -0.97 -0.15 ... -1.58  0.35  1.06]] VALIDATION: [[ 0.34 -1.44  0.7  ...  0.05 -0.8  -3.1 ]\n",
            " [-0.54 -0.82 -0.53 ...  0.84 -0.27  0.52]\n",
            " [ 1.43  1.35  0.12 ... -0.33 -0.64  0.08]\n",
            " ...\n",
            " [ 0.56 -0.55  1.04 ... -1.2   1.34 -0.52]\n",
            " [-1.55 -0.02  0.67 ...  0.39 -2.48  0.36]\n",
            " [ 1.18  0.78 -0.02 ... -0.63  0.29 -0.96]]\n",
            "TRAIN: [[-1.4  -1.9   0.09 ... -0.2  -0.92 -0.46]\n",
            " [-0.43  1.45 -0.68 ...  0.12  0.01 -0.56]\n",
            " [-0.76  0.3  -0.57 ... -0.18 -1.54 -1.7 ]\n",
            " ...\n",
            " [ 1.07  1.62 -1.49 ... -0.51 -0.69 -2.01]\n",
            " [ 0.53 -0.74  0.06 ... -1.04  0.01 -1.04]\n",
            " [ 0.8  -0.97 -0.15 ... -1.58  0.35  1.06]] VALIDATION: [[-0.55  1.16 -0.56 ...  2.97 -2.66 -1.9 ]\n",
            " [-0.36 -0.91 -0.99 ...  0.3   2.44 -1.26]\n",
            " [-0.76  1.36  0.   ...  1.2  -0.81 -1.16]\n",
            " ...\n",
            " [-2.03  1.17 -0.5  ... -1.5  -0.7   0.72]\n",
            " [-2.14  1.44 -0.39 ... -1.57  0.25 -0.85]\n",
            " [ 0.03  0.74  0.94 ... -0.06 -1.42  0.84]]\n",
            "TRAIN: [[-1.4  -1.9   0.09 ... -0.2  -0.92 -0.46]\n",
            " [-0.43  1.45 -0.68 ...  0.12  0.01 -0.56]\n",
            " [-0.76  0.3  -0.57 ... -0.18 -1.54 -1.7 ]\n",
            " ...\n",
            " [-2.03  1.17 -0.5  ... -1.5  -0.7   0.72]\n",
            " [-2.14  1.44 -0.39 ... -1.57  0.25 -0.85]\n",
            " [ 0.03  0.74  0.94 ... -0.06 -1.42  0.84]] VALIDATION: [[ 0.4   1.43 -1.22 ... -1.76  1.06  1.31]\n",
            " [-0.47  0.98  0.53 ...  0.71  0.32 -0.91]\n",
            " [ 1.58 -1.02 -0.17 ... -0.92 -0.28 -0.51]\n",
            " ...\n",
            " [ 1.07  1.62 -1.49 ... -0.51 -0.69 -2.01]\n",
            " [ 0.53 -0.74  0.06 ... -1.04  0.01 -1.04]\n",
            " [ 0.8  -0.97 -0.15 ... -1.58  0.35  1.06]]\n"
          ],
          "name": "stdout"
        }
      ]
    },
    {
      "cell_type": "code",
      "metadata": {
        "id": "wrFINJ_4J_fl",
        "colab_type": "code",
        "colab": {
          "base_uri": "https://localhost:8080/",
          "height": 34
        },
        "outputId": "0493cf3f-2355-4007-af10-ea31b86265e0"
      },
      "source": [
        "print(X_train.shape,X_validation.shape,y_train.shape,y_validation.shape)"
      ],
      "execution_count": 16,
      "outputs": [
        {
          "output_type": "stream",
          "text": [
            "(6375, 200) (2125, 200) (6375,) (2125,)\n"
          ],
          "name": "stdout"
        }
      ]
    },
    {
      "cell_type": "code",
      "metadata": {
        "id": "vckOXXX82bu8",
        "colab_type": "code",
        "colab": {
          "base_uri": "https://localhost:8080/",
          "height": 136
        },
        "outputId": "25cc84e4-afa0-4588-8d17-b08918ecdfd1"
      },
      "source": [
        "y_diag = np.asarray(np.diag(np.ones(y_train.shape[0]))*y_train) \n",
        "print(y_diag)"
      ],
      "execution_count": 17,
      "outputs": [
        {
          "output_type": "stream",
          "text": [
            "[[ 1.  0.  0. ... -0. -0. -0.]\n",
            " [ 0.  1.  0. ... -0. -0. -0.]\n",
            " [ 0.  0.  1. ... -0. -0. -0.]\n",
            " ...\n",
            " [ 0.  0.  0. ... -1. -0. -0.]\n",
            " [ 0.  0.  0. ... -0. -1. -0.]\n",
            " [ 0.  0.  0. ... -0. -0. -1.]]\n"
          ],
          "name": "stdout"
        }
      ]
    },
    {
      "cell_type": "code",
      "metadata": {
        "id": "neD3Xzby8ujX",
        "colab_type": "code",
        "colab": {
          "base_uri": "https://localhost:8080/",
          "height": 136
        },
        "outputId": "51185dac-db6e-4a29-c1e1-ba2a7856daaf"
      },
      "source": [
        "X_dash = np.dot(y_diag, X_train)\n",
        "print(X_dash)"
      ],
      "execution_count": 18,
      "outputs": [
        {
          "output_type": "stream",
          "text": [
            "[[-1.4  -1.9   0.09 ... -0.2  -0.92 -0.46]\n",
            " [-0.43  1.45 -0.68 ...  0.12  0.01 -0.56]\n",
            " [-0.76  0.3  -0.57 ... -0.18 -1.54 -1.7 ]\n",
            " ...\n",
            " [ 2.03 -1.17  0.5  ...  1.5   0.7  -0.72]\n",
            " [ 2.14 -1.44  0.39 ...  1.57 -0.25  0.85]\n",
            " [-0.03 -0.74 -0.94 ...  0.06  1.42 -0.84]]\n"
          ],
          "name": "stdout"
        }
      ]
    },
    {
      "cell_type": "code",
      "metadata": {
        "id": "xOWfhl6j9BQb",
        "colab_type": "code",
        "colab": {
          "base_uri": "https://localhost:8080/",
          "height": 136
        },
        "outputId": "d68d26c9-4712-42f8-ead9-d29117f3f24b"
      },
      "source": [
        "X_dash = (y_train.reshape(-1,1) * 1.) * X_train\n",
        "print(X_dash)"
      ],
      "execution_count": 19,
      "outputs": [
        {
          "output_type": "stream",
          "text": [
            "[[-1.4  -1.9   0.09 ... -0.2  -0.92 -0.46]\n",
            " [-0.43  1.45 -0.68 ...  0.12  0.01 -0.56]\n",
            " [-0.76  0.3  -0.57 ... -0.18 -1.54 -1.7 ]\n",
            " ...\n",
            " [ 2.03 -1.17  0.5  ...  1.5   0.7  -0.72]\n",
            " [ 2.14 -1.44  0.39 ...  1.57 -0.25  0.85]\n",
            " [-0.03 -0.74 -0.94 ...  0.06  1.42 -0.84]]\n"
          ],
          "name": "stdout"
        }
      ]
    },
    {
      "cell_type": "markdown",
      "metadata": {
        "id": "lB147_txKqhh",
        "colab_type": "text"
      },
      "source": [
        "#Test Data"
      ]
    },
    {
      "cell_type": "code",
      "metadata": {
        "id": "ZqfflajWKpuA",
        "colab_type": "code",
        "colab": {
          "base_uri": "https://localhost:8080/",
          "height": 255
        },
        "outputId": "65951987-484e-4af9-cc76-7471baa94251"
      },
      "source": [
        "#read test data\n",
        "test_file = \"data/test.csv\"\n",
        "df_test = pd.read_csv(test_file,header=None)\n",
        "print(df_test)"
      ],
      "execution_count": 20,
      "outputs": [
        {
          "output_type": "stream",
          "text": [
            "      0     1     2     3     4     5    ...   195   196   197   198   199   200\n",
            "0     1.0 -0.97 -0.69 -0.96  1.05  0.02  ...  1.68  0.29 -1.88 -0.60 -0.68  0.20\n",
            "1     0.0 -0.82 -0.17 -0.36 -1.99 -1.54  ... -0.70  1.10 -1.44  0.46  0.98  2.90\n",
            "2     0.0 -1.68  0.13 -0.42  1.41  0.89  ...  1.16 -0.56 -0.57 -1.42 -0.38  0.33\n",
            "3     0.0 -1.28  1.21  0.65  1.90 -1.21  ... -0.34 -1.35 -0.79 -0.62 -0.54  0.51\n",
            "4     1.0 -1.18  0.41  1.05  0.16 -0.72  ...  0.81  1.14  1.21 -0.15  0.26  1.09\n",
            "...   ...   ...   ...   ...   ...   ...  ...   ...   ...   ...   ...   ...   ...\n",
            "1495  1.0 -0.32  0.30 -1.11  0.49  0.65  ... -0.18  0.26  0.43  0.60 -1.41 -0.31\n",
            "1496  0.0  0.02  1.36  0.54 -0.47  0.43  ...  1.94  1.31 -0.89 -0.55 -0.34 -0.71\n",
            "1497  0.0  0.66 -0.05  0.26 -0.34  0.82  ... -2.28 -0.58 -0.83  0.80  1.40  0.61\n",
            "1498  1.0  1.46  0.28  0.18 -1.54  0.70  ... -1.22 -1.46 -0.54 -1.93  0.99 -1.00\n",
            "1499  1.0 -1.00 -0.81  0.42 -1.96 -0.82  ... -0.11 -0.38  2.32 -0.79  1.20 -0.19\n",
            "\n",
            "[1500 rows x 201 columns]\n"
          ],
          "name": "stdout"
        }
      ]
    },
    {
      "cell_type": "code",
      "metadata": {
        "id": "R1G6ZoFGK9ox",
        "colab_type": "code",
        "colab": {
          "base_uri": "https://localhost:8080/",
          "height": 255
        },
        "outputId": "c098ae6d-f926-462f-ded8-ebcbfb86fa5f"
      },
      "source": [
        "#transfer labels to either -1 or +1\n",
        "df_test.iloc[:,0].replace(0.0,-1.0,inplace=True)\n",
        "print(df_test)"
      ],
      "execution_count": 21,
      "outputs": [
        {
          "output_type": "stream",
          "text": [
            "      0     1     2     3     4     5    ...   195   196   197   198   199   200\n",
            "0     1.0 -0.97 -0.69 -0.96  1.05  0.02  ...  1.68  0.29 -1.88 -0.60 -0.68  0.20\n",
            "1    -1.0 -0.82 -0.17 -0.36 -1.99 -1.54  ... -0.70  1.10 -1.44  0.46  0.98  2.90\n",
            "2    -1.0 -1.68  0.13 -0.42  1.41  0.89  ...  1.16 -0.56 -0.57 -1.42 -0.38  0.33\n",
            "3    -1.0 -1.28  1.21  0.65  1.90 -1.21  ... -0.34 -1.35 -0.79 -0.62 -0.54  0.51\n",
            "4     1.0 -1.18  0.41  1.05  0.16 -0.72  ...  0.81  1.14  1.21 -0.15  0.26  1.09\n",
            "...   ...   ...   ...   ...   ...   ...  ...   ...   ...   ...   ...   ...   ...\n",
            "1495  1.0 -0.32  0.30 -1.11  0.49  0.65  ... -0.18  0.26  0.43  0.60 -1.41 -0.31\n",
            "1496 -1.0  0.02  1.36  0.54 -0.47  0.43  ...  1.94  1.31 -0.89 -0.55 -0.34 -0.71\n",
            "1497 -1.0  0.66 -0.05  0.26 -0.34  0.82  ... -2.28 -0.58 -0.83  0.80  1.40  0.61\n",
            "1498  1.0  1.46  0.28  0.18 -1.54  0.70  ... -1.22 -1.46 -0.54 -1.93  0.99 -1.00\n",
            "1499  1.0 -1.00 -0.81  0.42 -1.96 -0.82  ... -0.11 -0.38  2.32 -0.79  1.20 -0.19\n",
            "\n",
            "[1500 rows x 201 columns]\n"
          ],
          "name": "stdout"
        }
      ]
    },
    {
      "cell_type": "code",
      "metadata": {
        "id": "q42c7zD4LTQc",
        "colab_type": "code",
        "colab": {
          "base_uri": "https://localhost:8080/",
          "height": 221
        },
        "outputId": "3426ca31-f58e-4ef0-e74d-45ea0cc24768"
      },
      "source": [
        "y_negative_test_pd = df_test.iloc[:,0][df_test.iloc[:,0]==-1.0]\n",
        "print(y_negative_test_pd)"
      ],
      "execution_count": 22,
      "outputs": [
        {
          "output_type": "stream",
          "text": [
            "1      -1.0\n",
            "2      -1.0\n",
            "3      -1.0\n",
            "6      -1.0\n",
            "9      -1.0\n",
            "       ... \n",
            "1483   -1.0\n",
            "1485   -1.0\n",
            "1492   -1.0\n",
            "1496   -1.0\n",
            "1497   -1.0\n",
            "Name: 0, Length: 759, dtype: float64\n"
          ],
          "name": "stdout"
        }
      ]
    },
    {
      "cell_type": "code",
      "metadata": {
        "id": "1hrjx99nLdSl",
        "colab_type": "code",
        "colab": {
          "base_uri": "https://localhost:8080/",
          "height": 221
        },
        "outputId": "23097be8-0175-4f85-b68c-5255b6dbac96"
      },
      "source": [
        "y_positive_test_pd = df_test.iloc[:,0][df_test.iloc[:,0]==1.0]\n",
        "print(y_positive_test_pd)"
      ],
      "execution_count": 25,
      "outputs": [
        {
          "output_type": "stream",
          "text": [
            "0       1.0\n",
            "4       1.0\n",
            "5       1.0\n",
            "7       1.0\n",
            "8       1.0\n",
            "       ... \n",
            "1493    1.0\n",
            "1494    1.0\n",
            "1495    1.0\n",
            "1498    1.0\n",
            "1499    1.0\n",
            "Name: 0, Length: 741, dtype: float64\n"
          ],
          "name": "stdout"
        }
      ]
    },
    {
      "cell_type": "code",
      "metadata": {
        "id": "LriGAzKbLpHT",
        "colab_type": "code",
        "colab": {
          "base_uri": "https://localhost:8080/",
          "height": 255
        },
        "outputId": "910fed38-0e96-4463-c7cf-5786cf294530"
      },
      "source": [
        "x_negative_test_pd = df_test.iloc[:,1:][df_test.iloc[:,0]==-1.0]\n",
        "print(x_negative_test_pd)"
      ],
      "execution_count": 26,
      "outputs": [
        {
          "output_type": "stream",
          "text": [
            "       1     2     3     4     5     6    ...   195   196   197   198   199   200\n",
            "1    -0.82 -0.17 -0.36 -1.99 -1.54 -0.31  ... -0.70  1.10 -1.44  0.46  0.98  2.90\n",
            "2    -1.68  0.13 -0.42  1.41  0.89 -0.42  ...  1.16 -0.56 -0.57 -1.42 -0.38  0.33\n",
            "3    -1.28  1.21  0.65  1.90 -1.21 -0.38  ... -0.34 -1.35 -0.79 -0.62 -0.54  0.51\n",
            "6     0.91  2.28  0.12  0.33 -0.03 -0.17  ... -0.69  1.35 -0.89  1.10 -0.15 -0.09\n",
            "9    -0.22  1.72 -1.20  0.29 -0.72  0.64  ...  0.98 -0.64 -0.23 -1.15 -0.03 -0.42\n",
            "...    ...   ...   ...   ...   ...   ...  ...   ...   ...   ...   ...   ...   ...\n",
            "1483 -1.35 -1.15 -0.21 -0.47  0.92  1.52  ...  1.09  1.36  1.55  0.15  0.02  1.65\n",
            "1485  1.82 -1.35  1.01  0.94  0.90  0.14  ... -0.92  0.07 -1.05 -1.53 -0.16 -0.49\n",
            "1492  1.67 -0.00  0.22  0.80  0.56 -0.07  ...  1.92 -0.03 -0.08  1.79  1.13  1.10\n",
            "1496  0.02  1.36  0.54 -0.47  0.43  0.05  ...  1.94  1.31 -0.89 -0.55 -0.34 -0.71\n",
            "1497  0.66 -0.05  0.26 -0.34  0.82  1.88  ... -2.28 -0.58 -0.83  0.80  1.40  0.61\n",
            "\n",
            "[759 rows x 200 columns]\n"
          ],
          "name": "stdout"
        }
      ]
    },
    {
      "cell_type": "code",
      "metadata": {
        "id": "t-hy3fUiL37X",
        "colab_type": "code",
        "colab": {
          "base_uri": "https://localhost:8080/",
          "height": 255
        },
        "outputId": "ae5f6dae-d8f7-4fa3-8a3c-fed37841b0d2"
      },
      "source": [
        "x_positive_test_pd = df_test.iloc[:,1:][df_test.iloc[:,0]==1.0]\n",
        "print(x_positive_test_pd)"
      ],
      "execution_count": 27,
      "outputs": [
        {
          "output_type": "stream",
          "text": [
            "       1     2     3     4     5     6    ...   195   196   197   198   199   200\n",
            "0    -0.97 -0.69 -0.96  1.05  0.02  0.64  ...  1.68  0.29 -1.88 -0.60 -0.68  0.20\n",
            "4    -1.18  0.41  1.05  0.16 -0.72  0.91  ...  0.81  1.14  1.21 -0.15  0.26  1.09\n",
            "5    -0.14  0.87 -0.34  0.58  0.66  0.43  ...  2.43  0.73 -0.71 -0.88 -1.75  0.45\n",
            "7     1.93  1.02  0.16  0.11 -0.83  3.62  ...  0.13 -0.72  0.94 -1.23  1.40  0.62\n",
            "8     0.34  0.22  0.01  1.44 -1.15  0.08  ... -0.36 -0.49 -0.37 -1.02  2.17  0.27\n",
            "...    ...   ...   ...   ...   ...   ...  ...   ...   ...   ...   ...   ...   ...\n",
            "1493  0.96 -2.16 -0.16  0.37 -0.14  0.32  ... -0.95 -0.41  0.15  0.72 -0.99  0.07\n",
            "1494 -0.53  0.42  0.18  0.10 -0.12 -0.18  ...  1.72 -0.81  0.18 -2.21 -1.05  0.14\n",
            "1495 -0.32  0.30 -1.11  0.49  0.65  0.80  ... -0.18  0.26  0.43  0.60 -1.41 -0.31\n",
            "1498  1.46  0.28  0.18 -1.54  0.70 -0.97  ... -1.22 -1.46 -0.54 -1.93  0.99 -1.00\n",
            "1499 -1.00 -0.81  0.42 -1.96 -0.82  0.33  ... -0.11 -0.38  2.32 -0.79  1.20 -0.19\n",
            "\n",
            "[741 rows x 200 columns]\n"
          ],
          "name": "stdout"
        }
      ]
    },
    {
      "cell_type": "code",
      "metadata": {
        "id": "lUHQMrw1MUHl",
        "colab_type": "code",
        "colab": {}
      },
      "source": [
        "#Data set\n",
        "x_negative_test = x_negative_test_pd.to_numpy()\n",
        "y_negative_test = y_negative_test_pd.to_numpy()\n",
        "x_positive_test = x_positive_test_pd.to_numpy()\n",
        "y_positive_test = y_positive_test_pd.to_numpy()"
      ],
      "execution_count": 28,
      "outputs": []
    },
    {
      "cell_type": "code",
      "metadata": {
        "id": "U5Y71AM9MqrT",
        "colab_type": "code",
        "colab": {
          "base_uri": "https://localhost:8080/",
          "height": 136
        },
        "outputId": "745f61a1-b7b4-4f8f-c90a-c1f51b525133"
      },
      "source": [
        "X_test = np.vstack((x_positive_test, x_negative_test))\n",
        "y_test = np.concatenate((y_positive_test,y_negative_test))\n",
        "print(X_test)"
      ],
      "execution_count": 29,
      "outputs": [
        {
          "output_type": "stream",
          "text": [
            "[[-0.97 -0.69 -0.96 ... -0.6  -0.68  0.2 ]\n",
            " [-1.18  0.41  1.05 ... -0.15  0.26  1.09]\n",
            " [-0.14  0.87 -0.34 ... -0.88 -1.75  0.45]\n",
            " ...\n",
            " [ 1.67 -0.    0.22 ...  1.79  1.13  1.1 ]\n",
            " [ 0.02  1.36  0.54 ... -0.55 -0.34 -0.71]\n",
            " [ 0.66 -0.05  0.26 ...  0.8   1.4   0.61]]\n"
          ],
          "name": "stdout"
        }
      ]
    },
    {
      "cell_type": "code",
      "metadata": {
        "id": "jGReNR8VNIAO",
        "colab_type": "code",
        "colab": {
          "base_uri": "https://localhost:8080/",
          "height": 34
        },
        "outputId": "a280b93d-aa05-4fe4-ffd9-32432a0d2e16"
      },
      "source": [
        "print(X_test.shape,y_test.shape)"
      ],
      "execution_count": 30,
      "outputs": [
        {
          "output_type": "stream",
          "text": [
            "(1500, 200) (1500,)\n"
          ],
          "name": "stdout"
        }
      ]
    },
    {
      "cell_type": "markdown",
      "metadata": {
        "id": "ETCnllCcKbFF",
        "colab_type": "text"
      },
      "source": [
        "#Primal"
      ]
    },
    {
      "cell_type": "code",
      "metadata": {
        "id": "_LSBb-DeF8DX",
        "colab_type": "code",
        "colab": {}
      },
      "source": [
        "# train your svm in the primal\n",
        "def svm_train_primal(data_train, label_train, regularisation_para_C):\n",
        "    m,n = data_train.shape\n",
        "    P_w = np.asarray(np.diag(np.ones(n))) \n",
        "    P_s = np.zeros([n, m]) \n",
        "    P_b = np.zeros([1, n]) \n",
        "    \n",
        "    P1 = np.zeros([m, m])\n",
        "    P2 = np.zeros([m, 1])\n",
        "    P3 = np.zeros([1, m])\n",
        "    P4 = np.zeros([1, 1]) \n",
        "    \n",
        "    P_head = np.concatenate((P_w, P_s, P_b.T),axis = 1) \n",
        "    P_body = np.concatenate((P_s.T, P1, P2), axis=1)\n",
        "    P_tail = np.concatenate((P_b,P3, P4),axis = 1)\n",
        "    P = cvxopt.matrix(np.concatenate((P_head, P_body, P_tail), axis = 0))\n",
        "    \n",
        "    q = np.concatenate((P_b, np.matrix(np.ones([m])*regularisation_para_C/m), P4), axis=1)\n",
        "    q = cvxopt.matrix((q.T))\n",
        "    \n",
        "    g1 = np.dot(np.diag(label_train),data_train)*-1\n",
        "    g2 = np.asarray(np.diag(np.ones([m])*-1))\n",
        "    g3 = np.matrix(label_train)*-1\n",
        "    g3 = g3.T\n",
        "    g4 = np.zeros([m, n+1])\n",
        "    g5 = np.asarray(np.diag(np.ones([m])*-1))\n",
        "\n",
        "    G_head = np.concatenate((g1,g2,g3), axis = 1)\n",
        "    G_tail = np.concatenate((g4,g5), axis = 1)\n",
        "\n",
        "    G = np.vstack((G_head,G_tail))\n",
        "    G = cvxopt.matrix(G) \n",
        "    \n",
        "    h = cvxopt.matrix(np.hstack((np.ones(m)*-1,np.zeros(m))))             \n",
        "\n",
        "    svm_model_primal = np.array(cvxopt.solvers.coneqp(P,q,G,h)['x']).flatten()\n",
        "    \n",
        "    return svm_model_primal"
      ],
      "execution_count": 59,
      "outputs": []
    },
    {
      "cell_type": "code",
      "metadata": {
        "id": "4Tns8YjwGNEV",
        "colab_type": "code",
        "colab": {}
      },
      "source": [
        "# test on your test data\n",
        "def svm_predict_primal(data_test, label_test, svm_model):\n",
        "    m,n = X_train.shape\n",
        "    w_primal = svm_model[:n]\n",
        "    b_primal = svm_model[-1]\n",
        "    \n",
        "    y_predic = np.dot(data_test, w_primal)+b_primal\n",
        "    y_predic = np.sign(y_predic)\n",
        "    \n",
        "    score = accuracy_score(label_test, y_predic)\n",
        "    return score"
      ],
      "execution_count": 57,
      "outputs": []
    },
    {
      "cell_type": "code",
      "metadata": {
        "id": "wx31TlRpGY_S",
        "colab_type": "code",
        "colab": {
          "base_uri": "https://localhost:8080/",
          "height": 340
        },
        "outputId": "a992e9a3-707e-4be8-8274-623e07739387"
      },
      "source": [
        "#Choose hyper-parameter C\n",
        "C_parameter = [1, 5, 10, 15, 20, 50, 75, 100]\n",
        "\n",
        "for i in C_parameter:\n",
        "    svm_model_primal = svm_train_primal(X_train , y_train , i)\n",
        "    test_accuracy_primal = svm_predict_primal(X_validation , y_validation, svm_model_primal)\n",
        "    print(i, test_accuracy_primal)"
      ],
      "execution_count": 164,
      "outputs": [
        {
          "output_type": "stream",
          "text": [
            "     pcost       dcost       gap    pres   dres\n",
            " 0:  6.1960e+00  7.5831e+02  6e+04  3e+00  4e+04\n",
            " 1:  1.6460e+02 -9.2928e+02  1e+03  5e-02  6e+02\n",
            " 2:  1.1883e+02 -1.6158e+02  3e+02  1e-02  1e+02\n",
            " 3:  4.5187e+01 -1.5806e+01  6e+01  2e-03  2e+01\n",
            " 4:  1.7527e+01 -1.2871e+00  2e+01  5e-04  6e+00\n",
            " 5:  1.1597e+01  1.7167e+00  1e+01  2e-04  3e+00\n",
            " 6:  7.0609e+00  3.9767e+00  3e+00  6e-05  8e-01\n",
            " 7:  5.9380e+00  4.5523e+00  1e+00  2e-05  3e-01\n",
            " 8:  5.4410e+00  4.7827e+00  7e-01  5e-06  6e-02\n",
            " 9:  5.2289e+00  4.9167e+00  3e-01  2e-06  3e-02\n",
            "10:  5.1056e+00  4.9871e+00  1e-01  2e-15  5e-13\n",
            "11:  5.0582e+00  5.0277e+00  3e-02  2e-15  8e-13\n",
            "12:  5.0474e+00  5.0370e+00  1e-02  2e-15  1e-12\n",
            "13:  5.0425e+00  5.0414e+00  1e-03  2e-15  1e-12\n",
            "14:  5.0420e+00  5.0419e+00  4e-05  2e-15  2e-12\n",
            "15:  5.0420e+00  5.0420e+00  2e-06  2e-15  6e-12\n",
            "Optimal solution found.\n",
            "75 0.963764705882353\n"
          ],
          "name": "stdout"
        }
      ]
    },
    {
      "cell_type": "code",
      "metadata": {
        "id": "UCTe5-dfGjd5",
        "colab_type": "code",
        "colab": {
          "base_uri": "https://localhost:8080/",
          "height": 374
        },
        "outputId": "0a8c3dda-5353-4516-96d0-311d92ab994d"
      },
      "source": [
        "#calculate the accuracy in different set\n",
        "svm_model_primal = svm_train_primal(X_train , y_train , 75)\n",
        "\n",
        "test_accuracy_primal_train = svm_predict_primal(X_train , y_train , svm_model_primal)\n",
        "print('test_accuracy_train', test_accuracy_primal_train)\n",
        "\n",
        "test_accuracy_primal_validation = svm_predict_primal(X_validation , y_validation , svm_model_primal)\n",
        "print('test_accuracy_validation', test_accuracy_primal_validation)\n",
        "\n",
        "test_accuracy_primal_test = svm_predict_primal(X_test , y_test , svm_model_primal)\n",
        "print('test_accuracy_test', test_accuracy_primal_test)"
      ],
      "execution_count": 60,
      "outputs": [
        {
          "output_type": "stream",
          "text": [
            "     pcost       dcost       gap    pres   dres\n",
            " 0:  6.1960e+00  7.5831e+02  6e+04  3e+00  4e+04\n",
            " 1:  1.6460e+02 -9.2928e+02  1e+03  5e-02  6e+02\n",
            " 2:  1.1883e+02 -1.6158e+02  3e+02  1e-02  1e+02\n",
            " 3:  4.5187e+01 -1.5806e+01  6e+01  2e-03  2e+01\n",
            " 4:  1.7527e+01 -1.2871e+00  2e+01  5e-04  6e+00\n",
            " 5:  1.1597e+01  1.7167e+00  1e+01  2e-04  3e+00\n",
            " 6:  7.0609e+00  3.9767e+00  3e+00  6e-05  8e-01\n",
            " 7:  5.9380e+00  4.5523e+00  1e+00  2e-05  3e-01\n",
            " 8:  5.4410e+00  4.7827e+00  7e-01  5e-06  6e-02\n",
            " 9:  5.2289e+00  4.9167e+00  3e-01  2e-06  3e-02\n",
            "10:  5.1056e+00  4.9871e+00  1e-01  2e-15  2e-13\n",
            "11:  5.0582e+00  5.0277e+00  3e-02  2e-15  1e-12\n",
            "12:  5.0474e+00  5.0370e+00  1e-02  2e-15  2e-13\n",
            "13:  5.0425e+00  5.0414e+00  1e-03  2e-15  9e-13\n",
            "14:  5.0420e+00  5.0419e+00  4e-05  2e-15  1e-12\n",
            "15:  5.0420e+00  5.0420e+00  2e-06  2e-15  4e-12\n",
            "Optimal solution found.\n",
            "test_accuracy_train 0.9781960784313726\n",
            "test_accuracy_validation 0.963764705882353\n",
            "test_accuracy_test 0.9666666666666667\n"
          ],
          "name": "stdout"
        }
      ]
    },
    {
      "cell_type": "code",
      "metadata": {
        "id": "nx0A2BuLGrIG",
        "colab_type": "code",
        "colab": {}
      },
      "source": [
        "#solution\n",
        "w_primal = svm_model_primal[:X_train.shape[1]]\n",
        "b_primal = svm_model_primal[-1]\n",
        "primal_weights = pd.Series(w_primal)\n",
        "primal_b = pd.Series(b_primal)\n",
        "primal_series = pd.concat([primal_weights, primal_b], axis=0)"
      ],
      "execution_count": 47,
      "outputs": []
    },
    {
      "cell_type": "code",
      "metadata": {
        "id": "jN8XGfPpE6Ue",
        "colab_type": "code",
        "colab": {
          "base_uri": "https://localhost:8080/",
          "height": 255
        },
        "outputId": "0b76933f-7c06-4d24-8922-35c400fe4748"
      },
      "source": [
        "print(primal_weights)\n",
        "print(primal_b)"
      ],
      "execution_count": 48,
      "outputs": [
        {
          "output_type": "stream",
          "text": [
            "0     -0.013606\n",
            "1     -0.052168\n",
            "2      0.041272\n",
            "3     -0.026903\n",
            "4      0.078988\n",
            "         ...   \n",
            "195   -0.008536\n",
            "196   -0.079202\n",
            "197    0.009479\n",
            "198   -0.005946\n",
            "199    0.011591\n",
            "Length: 200, dtype: float64\n",
            "0    2.001248\n",
            "dtype: float64\n"
          ],
          "name": "stdout"
        }
      ]
    },
    {
      "cell_type": "markdown",
      "metadata": {
        "id": "gw_S0RK0NlOv",
        "colab_type": "text"
      },
      "source": [
        "#Dual"
      ]
    },
    {
      "cell_type": "code",
      "metadata": {
        "id": "vsUVyIW8GuQF",
        "colab_type": "code",
        "colab": {}
      },
      "source": [
        "# train your svm in the dual\n",
        "def svm_train_dual(data_train, label_train, regularisation_para_C):\n",
        "    m,n = data_train.shape\n",
        "    \n",
        "    X_dash = label_train.reshape(-1,1) * data_train\n",
        "    \n",
        "    H = np.dot(X_dash , X_dash.T) * 1.\n",
        "    P = cvxopt_matrix(H)\n",
        "    q = cvxopt_matrix(-np.ones((m, 1)))\n",
        "    G = cvxopt_matrix(np.vstack((np.eye(m)*-1,np.eye(m))))\n",
        "    \n",
        "    h = np.hstack((np.zeros(m), np.ones(m) * regularisation_para_C/m))\n",
        "    h = cvxopt_matrix(h)\n",
        "    \n",
        "    A = cvxopt_matrix(label_train.reshape(-1,1).reshape(1,-1))\n",
        "    b = cvxopt_matrix(np.zeros(1))\n",
        "    sol = cvxopt_solvers.qp(P, q, G, h, A, b)\n",
        "    alphas = np.array(sol['x'])\n",
        "    \n",
        "    w = ((label_train.reshape(-1,1) * alphas).T @ data_train).reshape(-1,1)\n",
        "\n",
        "    S = (alphas > 1e-4).flatten()\n",
        "    b = label_train.reshape(-1,1)[S] - np.dot(data_train[S], w)\n",
        "    b = b.mean()\n",
        "    svm_model_dual = np.vstack((w,b))\n",
        "    return svm_model_dual"
      ],
      "execution_count": 33,
      "outputs": []
    },
    {
      "cell_type": "code",
      "metadata": {
        "id": "aW7CkknvG0BV",
        "colab_type": "code",
        "colab": {}
      },
      "source": [
        "# test on your test data\n",
        "def svm_predict_dual(data_test, label_test, svm_model_d):    \n",
        "    m,n = X_train.shape\n",
        "    y_predic = np.dot(svm_model_dual[:n].T, data_test.T)+svm_model_dual[-1]\n",
        "    y_predic = np.sign(y_predic)\n",
        "    y_predic = y_predic.reshape(label_test.shape)\n",
        "    score = accuracy_score(label_test, y_predic)\n",
        "    return score"
      ],
      "execution_count": 34,
      "outputs": []
    },
    {
      "cell_type": "code",
      "metadata": {
        "id": "SeISyBr-HCvl",
        "colab_type": "code",
        "colab": {
          "base_uri": "https://localhost:8080/",
          "height": 340
        },
        "outputId": "791d02c1-3b22-455e-df1c-6b918da4c997"
      },
      "source": [
        "# Choose hyper-parameter C\n",
        "C_parameter = [1, 5, 10, 15, 20, 50, 75, 100]\n",
        "\n",
        "for i in C_parameter:\n",
        "    svm_model_dual = svm_train_dual(X_train , y_train , i)\n",
        "    test_accuracy_dual = svm_predict_dual(X_validation , y_validation , svm_model_dual)\n",
        "    print(i, test_accuracy_dual)"
      ],
      "execution_count": 45,
      "outputs": [
        {
          "output_type": "stream",
          "text": [
            "     pcost       dcost       gap    pres   dres\n",
            " 0: -5.9736e+02 -1.6883e+02  6e+04  2e+02  5e-12\n",
            " 1: -1.9632e+01 -1.6728e+02  1e+03  4e+00  5e-12\n",
            " 2: -1.0397e+01 -1.1503e+02  2e+02  6e-01  7e-13\n",
            " 3: -6.6519e+00 -4.0273e+01  5e+01  1e-01  2e-13\n",
            " 4: -5.1057e+00 -1.6681e+01  2e+01  4e-02  7e-14\n",
            " 5: -4.5633e+00 -9.1777e+00  6e+00  1e-02  5e-14\n",
            " 6: -4.7276e+00 -6.4970e+00  2e+00  3e-03  5e-14\n",
            " 7: -4.7090e+00 -5.8963e+00  1e+00  8e-04  5e-14\n",
            " 8: -4.8503e+00 -5.3909e+00  5e-01  2e-14  5e-14\n",
            " 9: -4.9627e+00 -5.2303e+00  3e-01  2e-15  5e-14\n",
            "10: -5.0228e+00 -5.1444e+00  1e-01  8e-15  5e-14\n",
            "11: -5.0568e+00 -5.1017e+00  4e-02  5e-15  6e-14\n",
            "12: -5.0719e+00 -5.0846e+00  1e-02  2e-16  5e-14\n",
            "13: -5.0774e+00 -5.0785e+00  1e-03  3e-16  6e-14\n",
            "14: -5.0779e+00 -5.0779e+00  4e-05  4e-15  6e-14\n",
            "15: -5.0779e+00 -5.0779e+00  2e-06  3e-15  6e-14\n",
            "Optimal solution found.\n",
            "75 0.9647058823529412\n"
          ],
          "name": "stdout"
        }
      ]
    },
    {
      "cell_type": "code",
      "metadata": {
        "id": "MFScMPTJHIJw",
        "colab_type": "code",
        "colab": {
          "base_uri": "https://localhost:8080/",
          "height": 374
        },
        "outputId": "ee949531-e118-4ac5-9a5e-2361ce785a46"
      },
      "source": [
        "#predict with best performing hyperparameter C 75\n",
        "\n",
        "svm_model_dual = svm_train_dual(X_train , y_train , 75)\n",
        "\n",
        "test_accuracy_dual_train = svm_predict_dual(X_train , y_train , svm_model_dual)\n",
        "print('train accuracy is', test_accuracy_dual_train)\n",
        "\n",
        "test_accuracy_dual_val = svm_predict_dual(X_validation , y_validation , svm_model_dual)\n",
        "print('validation accuracy is', test_accuracy_dual_val)\n",
        "\n",
        "test_accuracy_dual_test = svm_predict_dual(X_test , y_test , svm_model_dual)\n",
        "print('test accuracy is', test_accuracy_dual_test)"
      ],
      "execution_count": 35,
      "outputs": [
        {
          "output_type": "stream",
          "text": [
            "     pcost       dcost       gap    pres   dres\n",
            " 0: -5.9736e+02 -1.6883e+02  6e+04  2e+02  4e-12\n",
            " 1: -1.9632e+01 -1.6728e+02  1e+03  4e+00  4e-12\n",
            " 2: -1.0397e+01 -1.1503e+02  2e+02  6e-01  6e-13\n",
            " 3: -6.6519e+00 -4.0273e+01  5e+01  1e-01  2e-13\n",
            " 4: -5.1057e+00 -1.6681e+01  2e+01  4e-02  7e-14\n",
            " 5: -4.5633e+00 -9.1777e+00  6e+00  1e-02  5e-14\n",
            " 6: -4.7276e+00 -6.4970e+00  2e+00  3e-03  4e-14\n",
            " 7: -4.7090e+00 -5.8963e+00  1e+00  8e-04  4e-14\n",
            " 8: -4.8503e+00 -5.3909e+00  5e-01  1e-16  5e-14\n",
            " 9: -4.9627e+00 -5.2303e+00  3e-01  2e-15  4e-14\n",
            "10: -5.0228e+00 -5.1444e+00  1e-01  2e-15  5e-14\n",
            "11: -5.0568e+00 -5.1017e+00  4e-02  1e-15  5e-14\n",
            "12: -5.0719e+00 -5.0846e+00  1e-02  3e-15  5e-14\n",
            "13: -5.0774e+00 -5.0785e+00  1e-03  5e-15  5e-14\n",
            "14: -5.0779e+00 -5.0779e+00  4e-05  5e-15  5e-14\n",
            "15: -5.0779e+00 -5.0779e+00  2e-06  4e-15  5e-14\n",
            "Optimal solution found.\n",
            "train accuracy is 0.9785098039215686\n",
            "validation accuracy is 0.9647058823529412\n",
            "test accuracy is 0.968\n"
          ],
          "name": "stdout"
        }
      ]
    },
    {
      "cell_type": "code",
      "metadata": {
        "id": "o58RoMxPHNhX",
        "colab_type": "code",
        "colab": {}
      },
      "source": [
        "#getting weights and bias for dual model\n",
        "w = svm_model_dual[:X_train.shape[1]]\n",
        "b = svm_model_dual[-1]\n",
        "dual_w_series = pd.Series(w.flatten())\n",
        "dual_b_series = pd.Series(b)\n",
        "dual_series = pd.concat((dual_w_series, dual_b_series), axis=0)"
      ],
      "execution_count": 43,
      "outputs": []
    },
    {
      "cell_type": "markdown",
      "metadata": {
        "id": "OYLmyHpOFrd9",
        "colab_type": "text"
      },
      "source": [
        "#Sklearn SVM"
      ]
    },
    {
      "cell_type": "code",
      "metadata": {
        "id": "0RkOZCJXF1Wq",
        "colab_type": "code",
        "colab": {
          "base_uri": "https://localhost:8080/",
          "height": 153
        },
        "outputId": "5a48986f-470d-4838-f499-f1a8bf7a8ea6"
      },
      "source": [
        "# Choose hyper-parameter C\n",
        "from sklearn.svm import SVC\n",
        "\n",
        "C_parameter = [1, 5, 10, 15, 20, 50, 75, 100]\n",
        "C_parameter = [element / X_train.shape[0] for element in C_parameter]\n",
        "\n",
        "for i in C_parameter:\n",
        "    clf = SVC(C = i, kernel = 'linear')\n",
        "    clf.fit(X_train, y_train) \n",
        "    y_ = clf.predict(X_validation)\n",
        "    score = accuracy_score(y_validation, y_)\n",
        "    print(i*X_train.shape[0], score)"
      ],
      "execution_count": 38,
      "outputs": [
        {
          "output_type": "stream",
          "text": [
            "1.0 0.9303529411764706\n",
            "5.0 0.9524705882352941\n",
            "10.0 0.9595294117647059\n",
            "14.999999999999998 0.9595294117647059\n",
            "20.0 0.9609411764705882\n",
            "50.0 0.9623529411764706\n",
            "75.0 0.9632941176470589\n",
            "100.0 0.9632941176470589\n"
          ],
          "name": "stdout"
        }
      ]
    },
    {
      "cell_type": "code",
      "metadata": {
        "id": "WQhGRYp_F8YI",
        "colab_type": "code",
        "colab": {
          "base_uri": "https://localhost:8080/",
          "height": 68
        },
        "outputId": "fb8547e7-8470-4df7-f00f-7e52fa6e4034"
      },
      "source": [
        "clf = SVC(C = 75/X_train.shape[0], kernel = 'linear')\n",
        "clf.fit(X_train, y_train) \n",
        "\n",
        "y_predic_sklearn_train = clf.predict(X_train)\n",
        "train_score_sklearn = accuracy_score(y_train, y_predic_sklearn_train)\n",
        "print('train score',train_score_sklearn)\n",
        "\n",
        "y_predic_sklearn_validation = clf.predict(X_validation)\n",
        "validation_score_sklearn = accuracy_score(y_validation, y_predic_sklearn_validation)\n",
        "print('validation score',validation_score_sklearn)\n",
        "\n",
        "\n",
        "y_predic_sklearn_test = clf.predict(X_test)\n",
        "test_score_sklearn = accuracy_score(y_test, y_predic_sklearn_test)\n",
        "print('test score',test_score_sklearn)"
      ],
      "execution_count": 40,
      "outputs": [
        {
          "output_type": "stream",
          "text": [
            "train score 0.9781960784313726\n",
            "validation score 0.9632941176470589\n",
            "test score 0.966\n"
          ],
          "name": "stdout"
        }
      ]
    },
    {
      "cell_type": "code",
      "metadata": {
        "id": "c7PWXuEfGCWW",
        "colab_type": "code",
        "colab": {}
      },
      "source": [
        "SVM_w = clf.coef_\n",
        "SVM_b = clf.intercept_\n",
        "SVM_w_series = SVM_w.flatten()\n",
        "SVM_w_series = pd.Series(SVM_w_series)\n",
        "SVM_b_series = pd.Series(SVM_b)\n",
        "SVM_series = pd.concat((SVM_w_series, SVM_b_series), axis=0)"
      ],
      "execution_count": 41,
      "outputs": []
    },
    {
      "cell_type": "code",
      "metadata": {
        "id": "2uN6hEvUGlZ3",
        "colab_type": "code",
        "colab": {
          "base_uri": "https://localhost:8080/",
          "height": 419
        },
        "outputId": "b49b77b5-b213-4a9a-8af4-b85094a79970"
      },
      "source": [
        "#weight and bias compare\n",
        "param_compare = pd.concat([dual_series.rename('dual'), primal_series.rename('primal'), SVM_series.rename('sklearn')], axis=1)\n",
        "param_D_P_dif = round((param_compare['primal'] - param_compare['dual']),4)\n",
        "param_P_S_dif = round((param_compare['sklearn'] - param_compare['primal']),4)\n",
        "param_D_S_dif = round((param_compare['sklearn'] - param_compare['dual']),4)\n",
        "\n",
        "param_D_P_diff = (param_compare['primal'] - param_compare['dual'])/param_compare['dual']*100\n",
        "param_P_S_diff = (param_compare['sklearn'] - param_compare['primal'])/param_compare['primal']*100\n",
        "param_D_S_diff = (param_compare['sklearn'] - param_compare['dual'])/param_compare['dual']*100\n",
        "param_compare_1 = pd.concat([param_compare, \n",
        "                             param_D_P_dif.rename('D_P_dif'), \n",
        "                             param_P_S_dif.rename('P_S_dif'), \n",
        "                             param_D_S_dif.rename('D_S_dif'), \n",
        "                             param_D_P_diff.rename('D_P_diff pct'),\n",
        "                             param_P_S_diff.rename('P_S_diff pct'),\n",
        "                             param_D_S_diff.rename('D_S_diff pct')], axis=1)\n",
        "param_compare_1"
      ],
      "execution_count": 49,
      "outputs": [
        {
          "output_type": "execute_result",
          "data": {
            "text/html": [
              "<div>\n",
              "<style scoped>\n",
              "    .dataframe tbody tr th:only-of-type {\n",
              "        vertical-align: middle;\n",
              "    }\n",
              "\n",
              "    .dataframe tbody tr th {\n",
              "        vertical-align: top;\n",
              "    }\n",
              "\n",
              "    .dataframe thead th {\n",
              "        text-align: right;\n",
              "    }\n",
              "</style>\n",
              "<table border=\"1\" class=\"dataframe\">\n",
              "  <thead>\n",
              "    <tr style=\"text-align: right;\">\n",
              "      <th></th>\n",
              "      <th>dual</th>\n",
              "      <th>primal</th>\n",
              "      <th>sklearn</th>\n",
              "      <th>D_P_dif</th>\n",
              "      <th>P_S_dif</th>\n",
              "      <th>D_S_dif</th>\n",
              "      <th>D_P_diff pct</th>\n",
              "      <th>P_S_diff pct</th>\n",
              "      <th>D_S_diff pct</th>\n",
              "    </tr>\n",
              "  </thead>\n",
              "  <tbody>\n",
              "    <tr>\n",
              "      <th>0</th>\n",
              "      <td>-0.012035</td>\n",
              "      <td>-0.013606</td>\n",
              "      <td>-0.012055</td>\n",
              "      <td>-0.0016</td>\n",
              "      <td>0.0016</td>\n",
              "      <td>-0.0000</td>\n",
              "      <td>13.052926</td>\n",
              "      <td>-11.402061</td>\n",
              "      <td>0.162563</td>\n",
              "    </tr>\n",
              "    <tr>\n",
              "      <th>1</th>\n",
              "      <td>-0.050750</td>\n",
              "      <td>-0.052168</td>\n",
              "      <td>-0.050980</td>\n",
              "      <td>-0.0014</td>\n",
              "      <td>0.0012</td>\n",
              "      <td>-0.0002</td>\n",
              "      <td>2.794713</td>\n",
              "      <td>-2.277612</td>\n",
              "      <td>0.453448</td>\n",
              "    </tr>\n",
              "    <tr>\n",
              "      <th>2</th>\n",
              "      <td>0.042636</td>\n",
              "      <td>0.041272</td>\n",
              "      <td>0.042794</td>\n",
              "      <td>-0.0014</td>\n",
              "      <td>0.0015</td>\n",
              "      <td>0.0002</td>\n",
              "      <td>-3.199325</td>\n",
              "      <td>3.689977</td>\n",
              "      <td>0.372598</td>\n",
              "    </tr>\n",
              "    <tr>\n",
              "      <th>3</th>\n",
              "      <td>-0.031653</td>\n",
              "      <td>-0.026903</td>\n",
              "      <td>-0.031805</td>\n",
              "      <td>0.0048</td>\n",
              "      <td>-0.0049</td>\n",
              "      <td>-0.0002</td>\n",
              "      <td>-15.007414</td>\n",
              "      <td>18.221296</td>\n",
              "      <td>0.479337</td>\n",
              "    </tr>\n",
              "    <tr>\n",
              "      <th>4</th>\n",
              "      <td>0.077024</td>\n",
              "      <td>0.078988</td>\n",
              "      <td>0.077092</td>\n",
              "      <td>0.0020</td>\n",
              "      <td>-0.0019</td>\n",
              "      <td>0.0001</td>\n",
              "      <td>2.549463</td>\n",
              "      <td>-2.399991</td>\n",
              "      <td>0.088285</td>\n",
              "    </tr>\n",
              "    <tr>\n",
              "      <th>...</th>\n",
              "      <td>...</td>\n",
              "      <td>...</td>\n",
              "      <td>...</td>\n",
              "      <td>...</td>\n",
              "      <td>...</td>\n",
              "      <td>...</td>\n",
              "      <td>...</td>\n",
              "      <td>...</td>\n",
              "      <td>...</td>\n",
              "    </tr>\n",
              "    <tr>\n",
              "      <th>196</th>\n",
              "      <td>-0.077538</td>\n",
              "      <td>-0.079202</td>\n",
              "      <td>-0.077516</td>\n",
              "      <td>-0.0017</td>\n",
              "      <td>0.0017</td>\n",
              "      <td>0.0000</td>\n",
              "      <td>2.146377</td>\n",
              "      <td>-2.129109</td>\n",
              "      <td>-0.028431</td>\n",
              "    </tr>\n",
              "    <tr>\n",
              "      <th>197</th>\n",
              "      <td>0.008242</td>\n",
              "      <td>0.009479</td>\n",
              "      <td>0.008293</td>\n",
              "      <td>0.0012</td>\n",
              "      <td>-0.0012</td>\n",
              "      <td>0.0001</td>\n",
              "      <td>15.009807</td>\n",
              "      <td>-12.509151</td>\n",
              "      <td>0.623056</td>\n",
              "    </tr>\n",
              "    <tr>\n",
              "      <th>198</th>\n",
              "      <td>-0.005089</td>\n",
              "      <td>-0.005946</td>\n",
              "      <td>-0.005020</td>\n",
              "      <td>-0.0009</td>\n",
              "      <td>0.0009</td>\n",
              "      <td>0.0001</td>\n",
              "      <td>16.851704</td>\n",
              "      <td>-15.587061</td>\n",
              "      <td>-1.362043</td>\n",
              "    </tr>\n",
              "    <tr>\n",
              "      <th>199</th>\n",
              "      <td>0.012184</td>\n",
              "      <td>0.011591</td>\n",
              "      <td>0.012225</td>\n",
              "      <td>-0.0006</td>\n",
              "      <td>0.0006</td>\n",
              "      <td>0.0000</td>\n",
              "      <td>-4.869585</td>\n",
              "      <td>5.467894</td>\n",
              "      <td>0.332045</td>\n",
              "    </tr>\n",
              "    <tr>\n",
              "      <th>0</th>\n",
              "      <td>1.934221</td>\n",
              "      <td>2.001248</td>\n",
              "      <td>2.004838</td>\n",
              "      <td>0.0670</td>\n",
              "      <td>0.0036</td>\n",
              "      <td>0.0706</td>\n",
              "      <td>3.465335</td>\n",
              "      <td>0.179353</td>\n",
              "      <td>3.650903</td>\n",
              "    </tr>\n",
              "  </tbody>\n",
              "</table>\n",
              "<p>201 rows × 9 columns</p>\n",
              "</div>"
            ],
            "text/plain": [
              "         dual    primal   sklearn  ...  D_P_diff pct  P_S_diff pct  D_S_diff pct\n",
              "0   -0.012035 -0.013606 -0.012055  ...     13.052926    -11.402061      0.162563\n",
              "1   -0.050750 -0.052168 -0.050980  ...      2.794713     -2.277612      0.453448\n",
              "2    0.042636  0.041272  0.042794  ...     -3.199325      3.689977      0.372598\n",
              "3   -0.031653 -0.026903 -0.031805  ...    -15.007414     18.221296      0.479337\n",
              "4    0.077024  0.078988  0.077092  ...      2.549463     -2.399991      0.088285\n",
              "..        ...       ...       ...  ...           ...           ...           ...\n",
              "196 -0.077538 -0.079202 -0.077516  ...      2.146377     -2.129109     -0.028431\n",
              "197  0.008242  0.009479  0.008293  ...     15.009807    -12.509151      0.623056\n",
              "198 -0.005089 -0.005946 -0.005020  ...     16.851704    -15.587061     -1.362043\n",
              "199  0.012184  0.011591  0.012225  ...     -4.869585      5.467894      0.332045\n",
              "0    1.934221  2.001248  2.004838  ...      3.465335      0.179353      3.650903\n",
              "\n",
              "[201 rows x 9 columns]"
            ]
          },
          "metadata": {
            "tags": []
          },
          "execution_count": 49
        }
      ]
    },
    {
      "cell_type": "code",
      "metadata": {
        "id": "asz58V95GoF2",
        "colab_type": "code",
        "colab": {
          "base_uri": "https://localhost:8080/",
          "height": 297
        },
        "outputId": "9d43bf7e-0e53-4483-f051-25f752afdae7"
      },
      "source": [
        "#only weights compare\n",
        "weights_compare_2 = param_compare_1.iloc[:200]\n",
        "weights_compare_2.describe()"
      ],
      "execution_count": 50,
      "outputs": [
        {
          "output_type": "execute_result",
          "data": {
            "text/html": [
              "<div>\n",
              "<style scoped>\n",
              "    .dataframe tbody tr th:only-of-type {\n",
              "        vertical-align: middle;\n",
              "    }\n",
              "\n",
              "    .dataframe tbody tr th {\n",
              "        vertical-align: top;\n",
              "    }\n",
              "\n",
              "    .dataframe thead th {\n",
              "        text-align: right;\n",
              "    }\n",
              "</style>\n",
              "<table border=\"1\" class=\"dataframe\">\n",
              "  <thead>\n",
              "    <tr style=\"text-align: right;\">\n",
              "      <th></th>\n",
              "      <th>dual</th>\n",
              "      <th>primal</th>\n",
              "      <th>sklearn</th>\n",
              "      <th>D_P_dif</th>\n",
              "      <th>P_S_dif</th>\n",
              "      <th>D_S_dif</th>\n",
              "      <th>D_P_diff pct</th>\n",
              "      <th>P_S_diff pct</th>\n",
              "      <th>D_S_diff pct</th>\n",
              "    </tr>\n",
              "  </thead>\n",
              "  <tbody>\n",
              "    <tr>\n",
              "      <th>count</th>\n",
              "      <td>200.000000</td>\n",
              "      <td>200.000000</td>\n",
              "      <td>200.000000</td>\n",
              "      <td>200.000000</td>\n",
              "      <td>200.000000</td>\n",
              "      <td>200.000000</td>\n",
              "      <td>200.000000</td>\n",
              "      <td>200.000000</td>\n",
              "      <td>200.000000</td>\n",
              "    </tr>\n",
              "    <tr>\n",
              "      <th>mean</th>\n",
              "      <td>-0.001986</td>\n",
              "      <td>-0.001662</td>\n",
              "      <td>-0.001979</td>\n",
              "      <td>0.000321</td>\n",
              "      <td>-0.000317</td>\n",
              "      <td>0.000006</td>\n",
              "      <td>12.064684</td>\n",
              "      <td>9.212728</td>\n",
              "      <td>-0.075468</td>\n",
              "    </tr>\n",
              "    <tr>\n",
              "      <th>std</th>\n",
              "      <td>0.083237</td>\n",
              "      <td>0.083335</td>\n",
              "      <td>0.083245</td>\n",
              "      <td>0.003218</td>\n",
              "      <td>0.003205</td>\n",
              "      <td>0.000167</td>\n",
              "      <td>189.095764</td>\n",
              "      <td>130.356375</td>\n",
              "      <td>3.747735</td>\n",
              "    </tr>\n",
              "    <tr>\n",
              "      <th>min</th>\n",
              "      <td>-0.550819</td>\n",
              "      <td>-0.549901</td>\n",
              "      <td>-0.550891</td>\n",
              "      <td>-0.007800</td>\n",
              "      <td>-0.009000</td>\n",
              "      <td>-0.000500</td>\n",
              "      <td>-926.337839</td>\n",
              "      <td>-453.302352</td>\n",
              "      <td>-20.532731</td>\n",
              "    </tr>\n",
              "    <tr>\n",
              "      <th>25%</th>\n",
              "      <td>-0.020333</td>\n",
              "      <td>-0.018233</td>\n",
              "      <td>-0.020224</td>\n",
              "      <td>-0.001800</td>\n",
              "      <td>-0.002525</td>\n",
              "      <td>-0.000100</td>\n",
              "      <td>-12.463841</td>\n",
              "      <td>-12.620961</td>\n",
              "      <td>-0.544038</td>\n",
              "    </tr>\n",
              "    <tr>\n",
              "      <th>50%</th>\n",
              "      <td>0.001825</td>\n",
              "      <td>0.002502</td>\n",
              "      <td>0.001787</td>\n",
              "      <td>0.000400</td>\n",
              "      <td>-0.000300</td>\n",
              "      <td>-0.000000</td>\n",
              "      <td>-0.995828</td>\n",
              "      <td>0.195088</td>\n",
              "      <td>-0.016259</td>\n",
              "    </tr>\n",
              "    <tr>\n",
              "      <th>75%</th>\n",
              "      <td>0.016311</td>\n",
              "      <td>0.015779</td>\n",
              "      <td>0.016299</td>\n",
              "      <td>0.002500</td>\n",
              "      <td>0.001700</td>\n",
              "      <td>0.000100</td>\n",
              "      <td>12.963919</td>\n",
              "      <td>13.759079</td>\n",
              "      <td>0.466812</td>\n",
              "    </tr>\n",
              "    <tr>\n",
              "      <th>max</th>\n",
              "      <td>0.665917</td>\n",
              "      <td>0.666296</td>\n",
              "      <td>0.665972</td>\n",
              "      <td>0.009200</td>\n",
              "      <td>0.007800</td>\n",
              "      <td>0.000400</td>\n",
              "      <td>2339.544883</td>\n",
              "      <td>1437.542135</td>\n",
              "      <td>30.861263</td>\n",
              "    </tr>\n",
              "  </tbody>\n",
              "</table>\n",
              "</div>"
            ],
            "text/plain": [
              "             dual      primal  ...  P_S_diff pct  D_S_diff pct\n",
              "count  200.000000  200.000000  ...    200.000000    200.000000\n",
              "mean    -0.001986   -0.001662  ...      9.212728     -0.075468\n",
              "std      0.083237    0.083335  ...    130.356375      3.747735\n",
              "min     -0.550819   -0.549901  ...   -453.302352    -20.532731\n",
              "25%     -0.020333   -0.018233  ...    -12.620961     -0.544038\n",
              "50%      0.001825    0.002502  ...      0.195088     -0.016259\n",
              "75%      0.016311    0.015779  ...     13.759079      0.466812\n",
              "max      0.665917    0.666296  ...   1437.542135     30.861263\n",
              "\n",
              "[8 rows x 9 columns]"
            ]
          },
          "metadata": {
            "tags": []
          },
          "execution_count": 50
        }
      ]
    },
    {
      "cell_type": "code",
      "metadata": {
        "id": "2L36wGLdGuZY",
        "colab_type": "code",
        "colab": {
          "base_uri": "https://localhost:8080/",
          "height": 297
        },
        "outputId": "aa7bebc1-8f47-43ca-abbc-504b4aaf288a"
      },
      "source": [
        "param_compare_1.describe()"
      ],
      "execution_count": 51,
      "outputs": [
        {
          "output_type": "execute_result",
          "data": {
            "text/html": [
              "<div>\n",
              "<style scoped>\n",
              "    .dataframe tbody tr th:only-of-type {\n",
              "        vertical-align: middle;\n",
              "    }\n",
              "\n",
              "    .dataframe tbody tr th {\n",
              "        vertical-align: top;\n",
              "    }\n",
              "\n",
              "    .dataframe thead th {\n",
              "        text-align: right;\n",
              "    }\n",
              "</style>\n",
              "<table border=\"1\" class=\"dataframe\">\n",
              "  <thead>\n",
              "    <tr style=\"text-align: right;\">\n",
              "      <th></th>\n",
              "      <th>dual</th>\n",
              "      <th>primal</th>\n",
              "      <th>sklearn</th>\n",
              "      <th>D_P_dif</th>\n",
              "      <th>P_S_dif</th>\n",
              "      <th>D_S_dif</th>\n",
              "      <th>D_P_diff pct</th>\n",
              "      <th>P_S_diff pct</th>\n",
              "      <th>D_S_diff pct</th>\n",
              "    </tr>\n",
              "  </thead>\n",
              "  <tbody>\n",
              "    <tr>\n",
              "      <th>count</th>\n",
              "      <td>201.000000</td>\n",
              "      <td>201.000000</td>\n",
              "      <td>201.000000</td>\n",
              "      <td>201.000000</td>\n",
              "      <td>201.000000</td>\n",
              "      <td>201.000000</td>\n",
              "      <td>201.000000</td>\n",
              "      <td>201.000000</td>\n",
              "      <td>201.000000</td>\n",
              "    </tr>\n",
              "    <tr>\n",
              "      <th>mean</th>\n",
              "      <td>0.007647</td>\n",
              "      <td>0.008303</td>\n",
              "      <td>0.008006</td>\n",
              "      <td>0.000653</td>\n",
              "      <td>-0.000298</td>\n",
              "      <td>0.000357</td>\n",
              "      <td>12.021901</td>\n",
              "      <td>9.167786</td>\n",
              "      <td>-0.056929</td>\n",
              "    </tr>\n",
              "    <tr>\n",
              "      <th>std</th>\n",
              "      <td>0.159828</td>\n",
              "      <td>0.163916</td>\n",
              "      <td>0.164108</td>\n",
              "      <td>0.005694</td>\n",
              "      <td>0.003209</td>\n",
              "      <td>0.004982</td>\n",
              "      <td>188.623408</td>\n",
              "      <td>130.031637</td>\n",
              "      <td>3.747582</td>\n",
              "    </tr>\n",
              "    <tr>\n",
              "      <th>min</th>\n",
              "      <td>-0.550819</td>\n",
              "      <td>-0.549901</td>\n",
              "      <td>-0.550891</td>\n",
              "      <td>-0.007800</td>\n",
              "      <td>-0.009000</td>\n",
              "      <td>-0.000500</td>\n",
              "      <td>-926.337839</td>\n",
              "      <td>-453.302352</td>\n",
              "      <td>-20.532731</td>\n",
              "    </tr>\n",
              "    <tr>\n",
              "      <th>25%</th>\n",
              "      <td>-0.020279</td>\n",
              "      <td>-0.018178</td>\n",
              "      <td>-0.020153</td>\n",
              "      <td>-0.001800</td>\n",
              "      <td>-0.002500</td>\n",
              "      <td>-0.000100</td>\n",
              "      <td>-12.409883</td>\n",
              "      <td>-12.527193</td>\n",
              "      <td>-0.536507</td>\n",
              "    </tr>\n",
              "    <tr>\n",
              "      <th>50%</th>\n",
              "      <td>0.002171</td>\n",
              "      <td>0.002658</td>\n",
              "      <td>0.002399</td>\n",
              "      <td>0.000400</td>\n",
              "      <td>-0.000300</td>\n",
              "      <td>0.000000</td>\n",
              "      <td>-0.969004</td>\n",
              "      <td>0.180124</td>\n",
              "      <td>-0.004087</td>\n",
              "    </tr>\n",
              "    <tr>\n",
              "      <th>75%</th>\n",
              "      <td>0.017244</td>\n",
              "      <td>0.016003</td>\n",
              "      <td>0.017121</td>\n",
              "      <td>0.002500</td>\n",
              "      <td>0.001700</td>\n",
              "      <td>0.000100</td>\n",
              "      <td>12.934249</td>\n",
              "      <td>13.737928</td>\n",
              "      <td>0.478438</td>\n",
              "    </tr>\n",
              "    <tr>\n",
              "      <th>max</th>\n",
              "      <td>1.934221</td>\n",
              "      <td>2.001248</td>\n",
              "      <td>2.004838</td>\n",
              "      <td>0.067000</td>\n",
              "      <td>0.007800</td>\n",
              "      <td>0.070600</td>\n",
              "      <td>2339.544883</td>\n",
              "      <td>1437.542135</td>\n",
              "      <td>30.861263</td>\n",
              "    </tr>\n",
              "  </tbody>\n",
              "</table>\n",
              "</div>"
            ],
            "text/plain": [
              "             dual      primal  ...  P_S_diff pct  D_S_diff pct\n",
              "count  201.000000  201.000000  ...    201.000000    201.000000\n",
              "mean     0.007647    0.008303  ...      9.167786     -0.056929\n",
              "std      0.159828    0.163916  ...    130.031637      3.747582\n",
              "min     -0.550819   -0.549901  ...   -453.302352    -20.532731\n",
              "25%     -0.020279   -0.018178  ...    -12.527193     -0.536507\n",
              "50%      0.002171    0.002658  ...      0.180124     -0.004087\n",
              "75%      0.017244    0.016003  ...     13.737928      0.478438\n",
              "max      1.934221    2.001248  ...   1437.542135     30.861263\n",
              "\n",
              "[8 rows x 9 columns]"
            ]
          },
          "metadata": {
            "tags": []
          },
          "execution_count": 51
        }
      ]
    },
    {
      "cell_type": "code",
      "metadata": {
        "id": "WyNqeRb9Gzyo",
        "colab_type": "code",
        "colab": {
          "base_uri": "https://localhost:8080/",
          "height": 716
        },
        "outputId": "828fcd9d-69d2-4d4c-9c82-b5c7f882543e"
      },
      "source": [
        "#plotting w and b\n",
        "\n",
        "plt.figure(figsize=(18,12))\n",
        "x = range(0,201)\n",
        "plt.scatter(x, param_compare_1['primal'], alpha=1, label=\"primal\")\n",
        "plt.scatter(x, param_compare_1['dual'], alpha=1, marker = 'x', label=\"dual\" )\n",
        "plt.scatter(x, param_compare_1['sklearn'], alpha=1, marker = 'v', label=\"sklearn\" )\n",
        "plt.title('Weights and Bias Comparison', fontsize=20)\n",
        "plt.legend(loc='upper left', prop={'size': 20})"
      ],
      "execution_count": 52,
      "outputs": [
        {
          "output_type": "execute_result",
          "data": {
            "text/plain": [
              "<matplotlib.legend.Legend at 0x7fcd87995c50>"
            ]
          },
          "metadata": {
            "tags": []
          },
          "execution_count": 52
        },
        {
          "output_type": "display_data",
          "data": {
            "image/png": "[encoded data removed]",
            "text/plain": [
              "<Figure size 1296x864 with 1 Axes>"
            ]
          },
          "metadata": {
            "tags": [],
            "needs_background": "light"
          }
        }
      ]
    }
  ]
}